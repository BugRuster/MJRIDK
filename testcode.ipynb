{
 "cells": [
  {
   "cell_type": "code",
   "execution_count": 2,
   "metadata": {},
   "outputs": [
    {
     "name": "stdout",
     "output_type": "stream",
     "text": [
      "Extracted 162 frames from IMG_3017.MOV.mp4.mp4\n",
      "Extracted 189 frames from IMG_2702.MOV.mp4.mp4\n",
      "Extracted 197 frames from IMG_2793.MOV.mp4.mp4\n",
      "Extracted 232 frames from IMG_2698.MOV.mp4.mp4\n",
      "Extracted 188 frames from IMG_2796.MOV.mp4.mp4\n",
      "Extracted 156 frames from IMG_3012.MOV.mp4.mp4\n",
      "Extracted 182 frames from IMG_2795.MOV.mp4.mp4\n",
      "Extracted 214 frames from IMG_2701.MOV.mp4.mp4\n",
      "Extracted 160 frames from IMG_3014.MOV.mp4.mp4\n",
      "Extracted 238 frames from IMG_2697.MOV.mp4.mp4\n",
      "Extracted 167 frames from IMG_3013.MOV.mp4.mp4\n",
      "Extracted 181 frames from IMG_2792.MOV.mp4.mp4\n",
      "Extracted 202 frames from IMG_2703.MOV.mp4.mp4\n",
      "Extracted 154 frames from IMG_3016.MOV.mp4.mp4\n",
      "Extracted 180 frames from IMG_3015.MOV.mp4.mp4\n",
      "Extracted 198 frames from IMG_2700.MOV.mp4.mp4\n",
      "Extracted 186 frames from IMG_2794.MOV.mp4.mp4\n",
      "Frame extraction completed.\n"
     ]
    }
   ],
   "source": [
    "import cv2\n",
    "import os\n",
    "from pathlib import Path\n",
    "\n",
    "def extract_frames(input_folder, output_folder):\n",
    "    # Create the output folder if it doesn't exist\n",
    "    Path(output_folder).mkdir(parents=True, exist_ok=True)\n",
    "\n",
    "    # Iterate through all files in the input folder\n",
    "    for video_file in os.listdir(input_folder):\n",
    "        if video_file.endswith(('.mp4', '.avi', '.mov')):  # Add more video formats if needed\n",
    "            video_path = os.path.join(input_folder, video_file)\n",
    "            \n",
    "            # Create a folder for each video\n",
    "            video_name = os.path.splitext(video_file)[0]\n",
    "            video_output_folder = os.path.join(output_folder, video_name)\n",
    "            Path(video_output_folder).mkdir(parents=True, exist_ok=True)\n",
    "\n",
    "            # Open the video file\n",
    "            cap = cv2.VideoCapture(video_path)\n",
    "            frame_count = 0\n",
    "\n",
    "            while True:\n",
    "                ret, frame = cap.read()\n",
    "                if not ret:\n",
    "                    break\n",
    "\n",
    "                # Save the frame as an image file\n",
    "                frame_filename = f\"{video_name}_frame_{frame_count:04d}.jpg\"\n",
    "                frame_path = os.path.join(video_output_folder, frame_filename)\n",
    "                cv2.imwrite(frame_path, frame)\n",
    "\n",
    "                frame_count += 1\n",
    "\n",
    "            cap.release()\n",
    "            print(f\"Extracted {frame_count} frames from {video_file}\")\n",
    "\n",
    "    print(\"Frame extraction completed.\")\n",
    "\n",
    "# Set your input and output folders\n",
    "input_folder = \"/Users/bugruster/Developer/MjrPrj/anksuchi\"\n",
    "output_folder = \"/Users/bugruster/Developer/MjrPrj/anksuchi_frames\"\n",
    "\n",
    "# Run the frame extraction\n",
    "extract_frames(input_folder, output_folder)"
   ]
  },
  {
   "cell_type": "code",
   "execution_count": null,
   "metadata": {},
   "outputs": [],
   "source": []
  }
 ],
 "metadata": {
  "kernelspec": {
   "display_name": "Python 3",
   "language": "python",
   "name": "python3"
  },
  "language_info": {
   "codemirror_mode": {
    "name": "ipython",
    "version": 3
   },
   "file_extension": ".py",
   "mimetype": "text/x-python",
   "name": "python",
   "nbconvert_exporter": "python",
   "pygments_lexer": "ipython3",
   "version": "3.9.6"
  }
 },
 "nbformat": 4,
 "nbformat_minor": 2
}
