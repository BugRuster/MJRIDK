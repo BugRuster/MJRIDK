{
 "cells": [
  {
   "cell_type": "code",
   "execution_count": 2,
   "metadata": {},
   "outputs": [
    {
     "name": "stdout",
     "output_type": "stream",
     "text": [
      "Defaulting to user installation because normal site-packages is not writeable\n",
      "Requirement already satisfied: numpy in /Users/bugruster/Library/Python/3.9/lib/python/site-packages (1.26.4)\n",
      "Requirement already satisfied: opencv-python in /Users/bugruster/Library/Python/3.9/lib/python/site-packages (4.10.0.84)\n",
      "Requirement already satisfied: mediapipe in /Users/bugruster/Library/Python/3.9/lib/python/site-packages (0.10.14)\n",
      "Requirement already satisfied: tensorflow in /Users/bugruster/Library/Python/3.9/lib/python/site-packages (2.17.0)\n",
      "Requirement already satisfied: keras in /Users/bugruster/Library/Python/3.9/lib/python/site-packages (3.5.0)\n",
      "Requirement already satisfied: jaxlib in /Users/bugruster/Library/Python/3.9/lib/python/site-packages (from mediapipe) (0.4.30)\n",
      "Requirement already satisfied: absl-py in /Users/bugruster/Library/Python/3.9/lib/python/site-packages (from mediapipe) (2.1.0)\n",
      "Requirement already satisfied: attrs>=19.1.0 in /Users/bugruster/Library/Python/3.9/lib/python/site-packages (from mediapipe) (24.2.0)\n",
      "Requirement already satisfied: jax in /Users/bugruster/Library/Python/3.9/lib/python/site-packages (from mediapipe) (0.4.30)\n",
      "Requirement already satisfied: protobuf<5,>=4.25.3 in /Users/bugruster/Library/Python/3.9/lib/python/site-packages (from mediapipe) (4.25.4)\n",
      "Requirement already satisfied: sounddevice>=0.4.4 in /Users/bugruster/Library/Python/3.9/lib/python/site-packages (from mediapipe) (0.5.0)\n",
      "Requirement already satisfied: matplotlib in /Users/bugruster/Library/Python/3.9/lib/python/site-packages (from mediapipe) (3.9.2)\n",
      "Requirement already satisfied: flatbuffers>=2.0 in /Users/bugruster/Library/Python/3.9/lib/python/site-packages (from mediapipe) (24.3.25)\n",
      "Requirement already satisfied: opencv-contrib-python in /Users/bugruster/Library/Python/3.9/lib/python/site-packages (from mediapipe) (4.10.0.84)\n",
      "Requirement already satisfied: typing-extensions>=3.6.6 in /Users/bugruster/Library/Python/3.9/lib/python/site-packages (from tensorflow) (4.12.2)\n",
      "Requirement already satisfied: wrapt>=1.11.0 in /Users/bugruster/Library/Python/3.9/lib/python/site-packages (from tensorflow) (1.16.0)\n",
      "Requirement already satisfied: tensorboard<2.18,>=2.17 in /Users/bugruster/Library/Python/3.9/lib/python/site-packages (from tensorflow) (2.17.1)\n",
      "Requirement already satisfied: google-pasta>=0.1.1 in /Users/bugruster/Library/Python/3.9/lib/python/site-packages (from tensorflow) (0.2.0)\n",
      "Requirement already satisfied: termcolor>=1.1.0 in /Users/bugruster/Library/Python/3.9/lib/python/site-packages (from tensorflow) (2.4.0)\n",
      "Requirement already satisfied: libclang>=13.0.0 in /Users/bugruster/Library/Python/3.9/lib/python/site-packages (from tensorflow) (18.1.1)\n",
      "Requirement already satisfied: opt-einsum>=2.3.2 in /Users/bugruster/Library/Python/3.9/lib/python/site-packages (from tensorflow) (3.3.0)\n",
      "Requirement already satisfied: gast!=0.5.0,!=0.5.1,!=0.5.2,>=0.2.1 in /Users/bugruster/Library/Python/3.9/lib/python/site-packages (from tensorflow) (0.6.0)\n",
      "Requirement already satisfied: requests<3,>=2.21.0 in /Users/bugruster/Library/Python/3.9/lib/python/site-packages (from tensorflow) (2.32.3)\n",
      "Requirement already satisfied: h5py>=3.10.0 in /Users/bugruster/Library/Python/3.9/lib/python/site-packages (from tensorflow) (3.11.0)\n",
      "Requirement already satisfied: six>=1.12.0 in /Applications/Xcode.app/Contents/Developer/Library/Frameworks/Python3.framework/Versions/3.9/lib/python3.9/site-packages (from tensorflow) (1.15.0)\n",
      "Requirement already satisfied: astunparse>=1.6.0 in /Users/bugruster/Library/Python/3.9/lib/python/site-packages (from tensorflow) (1.6.3)\n",
      "Requirement already satisfied: packaging in /Users/bugruster/Library/Python/3.9/lib/python/site-packages (from tensorflow) (24.1)\n",
      "Requirement already satisfied: setuptools in /Applications/Xcode.app/Contents/Developer/Library/Frameworks/Python3.framework/Versions/3.9/lib/python3.9/site-packages (from tensorflow) (58.0.4)\n",
      "Requirement already satisfied: ml-dtypes<0.5.0,>=0.3.1 in /Users/bugruster/Library/Python/3.9/lib/python/site-packages (from tensorflow) (0.4.0)\n",
      "Requirement already satisfied: tensorflow-io-gcs-filesystem>=0.23.1 in /Users/bugruster/Library/Python/3.9/lib/python/site-packages (from tensorflow) (0.37.1)\n",
      "Requirement already satisfied: grpcio<2.0,>=1.24.3 in /Users/bugruster/Library/Python/3.9/lib/python/site-packages (from tensorflow) (1.65.5)\n",
      "Requirement already satisfied: optree in /Users/bugruster/Library/Python/3.9/lib/python/site-packages (from keras) (0.12.1)\n",
      "Requirement already satisfied: namex in /Users/bugruster/Library/Python/3.9/lib/python/site-packages (from keras) (0.0.8)\n",
      "Requirement already satisfied: rich in /Users/bugruster/Library/Python/3.9/lib/python/site-packages (from keras) (13.7.1)\n",
      "Requirement already satisfied: wheel<1.0,>=0.23.0 in /Applications/Xcode.app/Contents/Developer/Library/Frameworks/Python3.framework/Versions/3.9/lib/python3.9/site-packages (from astunparse>=1.6.0->tensorflow) (0.37.0)\n",
      "Requirement already satisfied: certifi>=2017.4.17 in /Users/bugruster/Library/Python/3.9/lib/python/site-packages (from requests<3,>=2.21.0->tensorflow) (2024.7.4)\n",
      "Requirement already satisfied: idna<4,>=2.5 in /Users/bugruster/Library/Python/3.9/lib/python/site-packages (from requests<3,>=2.21.0->tensorflow) (3.7)\n",
      "Requirement already satisfied: charset-normalizer<4,>=2 in /Users/bugruster/Library/Python/3.9/lib/python/site-packages (from requests<3,>=2.21.0->tensorflow) (3.3.2)\n",
      "Requirement already satisfied: urllib3<3,>=1.21.1 in /Users/bugruster/Library/Python/3.9/lib/python/site-packages (from requests<3,>=2.21.0->tensorflow) (2.2.2)\n",
      "Requirement already satisfied: CFFI>=1.0 in /Users/bugruster/Library/Python/3.9/lib/python/site-packages (from sounddevice>=0.4.4->mediapipe) (1.17.0)\n",
      "Requirement already satisfied: pycparser in /Users/bugruster/Library/Python/3.9/lib/python/site-packages (from CFFI>=1.0->sounddevice>=0.4.4->mediapipe) (2.22)\n",
      "Requirement already satisfied: tensorboard-data-server<0.8.0,>=0.7.0 in /Users/bugruster/Library/Python/3.9/lib/python/site-packages (from tensorboard<2.18,>=2.17->tensorflow) (0.7.2)\n",
      "Requirement already satisfied: werkzeug>=1.0.1 in /Users/bugruster/Library/Python/3.9/lib/python/site-packages (from tensorboard<2.18,>=2.17->tensorflow) (3.0.4)\n",
      "Requirement already satisfied: markdown>=2.6.8 in /Users/bugruster/Library/Python/3.9/lib/python/site-packages (from tensorboard<2.18,>=2.17->tensorflow) (3.7)\n",
      "Requirement already satisfied: importlib-metadata>=4.4 in /Users/bugruster/Library/Python/3.9/lib/python/site-packages (from markdown>=2.6.8->tensorboard<2.18,>=2.17->tensorflow) (8.4.0)\n",
      "Requirement already satisfied: zipp>=0.5 in /Users/bugruster/Library/Python/3.9/lib/python/site-packages (from importlib-metadata>=4.4->markdown>=2.6.8->tensorboard<2.18,>=2.17->tensorflow) (3.20.0)\n",
      "Requirement already satisfied: MarkupSafe>=2.1.1 in /Users/bugruster/Library/Python/3.9/lib/python/site-packages (from werkzeug>=1.0.1->tensorboard<2.18,>=2.17->tensorflow) (2.1.5)\n",
      "Requirement already satisfied: scipy>=1.9 in /Users/bugruster/Library/Python/3.9/lib/python/site-packages (from jax->mediapipe) (1.13.1)\n",
      "Requirement already satisfied: pillow>=8 in /Users/bugruster/Library/Python/3.9/lib/python/site-packages (from matplotlib->mediapipe) (10.4.0)\n",
      "Requirement already satisfied: contourpy>=1.0.1 in /Users/bugruster/Library/Python/3.9/lib/python/site-packages (from matplotlib->mediapipe) (1.2.1)\n",
      "Requirement already satisfied: kiwisolver>=1.3.1 in /Users/bugruster/Library/Python/3.9/lib/python/site-packages (from matplotlib->mediapipe) (1.4.5)\n",
      "Requirement already satisfied: cycler>=0.10 in /Users/bugruster/Library/Python/3.9/lib/python/site-packages (from matplotlib->mediapipe) (0.12.1)\n",
      "Requirement already satisfied: python-dateutil>=2.7 in /Users/bugruster/Library/Python/3.9/lib/python/site-packages (from matplotlib->mediapipe) (2.9.0.post0)\n",
      "Requirement already satisfied: pyparsing>=2.3.1 in /Users/bugruster/Library/Python/3.9/lib/python/site-packages (from matplotlib->mediapipe) (3.1.2)\n",
      "Requirement already satisfied: importlib-resources>=3.2.0 in /Users/bugruster/Library/Python/3.9/lib/python/site-packages (from matplotlib->mediapipe) (6.4.4)\n",
      "Requirement already satisfied: fonttools>=4.22.0 in /Users/bugruster/Library/Python/3.9/lib/python/site-packages (from matplotlib->mediapipe) (4.53.1)\n",
      "Requirement already satisfied: pygments<3.0.0,>=2.13.0 in /Users/bugruster/Library/Python/3.9/lib/python/site-packages (from rich->keras) (2.18.0)\n",
      "Requirement already satisfied: markdown-it-py>=2.2.0 in /Users/bugruster/Library/Python/3.9/lib/python/site-packages (from rich->keras) (3.0.0)\n",
      "Requirement already satisfied: mdurl~=0.1 in /Users/bugruster/Library/Python/3.9/lib/python/site-packages (from markdown-it-py>=2.2.0->rich->keras) (0.1.2)\n",
      "\u001b[33mWARNING: You are using pip version 21.2.4; however, version 24.2 is available.\n",
      "You should consider upgrading via the '/Applications/Xcode.app/Contents/Developer/usr/bin/python3 -m pip install --upgrade pip' command.\u001b[0m\n"
     ]
    }
   ],
   "source": [
    "!pip3 install numpy opencv-python mediapipe tensorflow keras"
   ]
  },
  {
   "cell_type": "code",
   "execution_count": 3,
   "metadata": {},
   "outputs": [
    {
     "name": "stdout",
     "output_type": "stream",
     "text": [
      "Extracted 162 frames from /Users/bugruster/Developer/MjrPrj/anksuchi/IMG_3017.MOV.mp4.mp4\n",
      "Extracted 189 frames from /Users/bugruster/Developer/MjrPrj/anksuchi/IMG_2702.MOV.mp4.mp4\n",
      "Extracted 197 frames from /Users/bugruster/Developer/MjrPrj/anksuchi/IMG_2793.MOV.mp4.mp4\n",
      "Extracted 232 frames from /Users/bugruster/Developer/MjrPrj/anksuchi/IMG_2698.MOV.mp4.mp4\n",
      "Extracted 188 frames from /Users/bugruster/Developer/MjrPrj/anksuchi/IMG_2796.MOV.mp4.mp4\n",
      "Extracted 156 frames from /Users/bugruster/Developer/MjrPrj/anksuchi/IMG_3012.MOV.mp4.mp4\n",
      "Extracted 182 frames from /Users/bugruster/Developer/MjrPrj/anksuchi/IMG_2795.MOV.mp4.mp4\n",
      "Extracted 214 frames from /Users/bugruster/Developer/MjrPrj/anksuchi/IMG_2701.MOV.mp4.mp4\n",
      "Extracted 160 frames from /Users/bugruster/Developer/MjrPrj/anksuchi/IMG_3014.MOV.mp4.mp4\n",
      "Extracted 238 frames from /Users/bugruster/Developer/MjrPrj/anksuchi/IMG_2697.MOV.mp4.mp4\n",
      "Extracted 167 frames from /Users/bugruster/Developer/MjrPrj/anksuchi/IMG_3013.MOV.mp4.mp4\n",
      "Extracted 181 frames from /Users/bugruster/Developer/MjrPrj/anksuchi/IMG_2792.MOV.mp4.mp4\n",
      "Extracted 202 frames from /Users/bugruster/Developer/MjrPrj/anksuchi/IMG_2703.MOV.mp4.mp4\n",
      "Extracted 154 frames from /Users/bugruster/Developer/MjrPrj/anksuchi/IMG_3016.MOV.mp4.mp4\n",
      "Extracted 180 frames from /Users/bugruster/Developer/MjrPrj/anksuchi/IMG_3015.MOV.mp4.mp4\n",
      "Extracted 198 frames from /Users/bugruster/Developer/MjrPrj/anksuchi/IMG_2700.MOV.mp4.mp4\n",
      "Extracted 186 frames from /Users/bugruster/Developer/MjrPrj/anksuchi/IMG_2794.MOV.mp4.mp4\n"
     ]
    }
   ],
   "source": [
    "import cv2\n",
    "import os\n",
    "\n",
    "def extract_frames(video_path, output_folder):\n",
    "    # Create output directory if it doesn't exist\n",
    "    if not os.path.exists(output_folder):\n",
    "        os.makedirs(output_folder)\n",
    "\n",
    "    # Capture the video\n",
    "    cap = cv2.VideoCapture(video_path)\n",
    "    count = 0\n",
    "\n",
    "    # Loop through each frame\n",
    "    while cap.isOpened():\n",
    "        ret, frame = cap.read()\n",
    "        if not ret:\n",
    "            break\n",
    "\n",
    "        # Save the frame as an image file\n",
    "        frame_filename = f\"{output_folder}/frame_{count}.jpg\"\n",
    "        cv2.imwrite(frame_filename, frame)\n",
    "        count += 1\n",
    "\n",
    "    cap.release()\n",
    "    print(f\"Extracted {count} frames from {video_path}\")\n",
    "\n",
    "# Example usage\n",
    "video_folder = \"/Users/bugruster/Developer/MjrPrj/anksuchi\"\n",
    "output_base_folder = \"/Users/bugruster/Developer/MjrPrj/anksuchi_frames_ext\"\n",
    "\n",
    "# Loop through each video file in the folder\n",
    "for video_file in os.listdir(video_folder):\n",
    "    video_path = os.path.join(video_folder, video_file)\n",
    "    output_folder = os.path.join(output_base_folder, os.path.splitext(video_file)[0])\n",
    "\n",
    "    extract_frames(video_path, output_folder)\n"
   ]
  },
  {
   "cell_type": "code",
   "execution_count": 1,
   "metadata": {},
   "outputs": [
    {
     "name": "stdout",
     "output_type": "stream",
     "text": [
      "Defaulting to user installation because normal site-packages is not writeable\n",
      "Requirement already satisfied: mediapipe in /Users/bugruster/Library/Python/3.9/lib/python/site-packages (0.10.14)\n",
      "Requirement already satisfied: jax in /Users/bugruster/Library/Python/3.9/lib/python/site-packages (from mediapipe) (0.4.30)\n",
      "Requirement already satisfied: attrs>=19.1.0 in /Users/bugruster/Library/Python/3.9/lib/python/site-packages (from mediapipe) (24.2.0)\n",
      "Requirement already satisfied: absl-py in /Users/bugruster/Library/Python/3.9/lib/python/site-packages (from mediapipe) (2.1.0)\n",
      "Requirement already satisfied: numpy in /Users/bugruster/Library/Python/3.9/lib/python/site-packages (from mediapipe) (1.26.4)\n",
      "Requirement already satisfied: protobuf<5,>=4.25.3 in /Users/bugruster/Library/Python/3.9/lib/python/site-packages (from mediapipe) (4.25.4)\n",
      "Requirement already satisfied: flatbuffers>=2.0 in /Users/bugruster/Library/Python/3.9/lib/python/site-packages (from mediapipe) (24.3.25)\n",
      "Requirement already satisfied: sounddevice>=0.4.4 in /Users/bugruster/Library/Python/3.9/lib/python/site-packages (from mediapipe) (0.5.0)\n",
      "Requirement already satisfied: matplotlib in /Users/bugruster/Library/Python/3.9/lib/python/site-packages (from mediapipe) (3.9.2)\n",
      "Requirement already satisfied: jaxlib in /Users/bugruster/Library/Python/3.9/lib/python/site-packages (from mediapipe) (0.4.30)\n",
      "Requirement already satisfied: opencv-contrib-python in /Users/bugruster/Library/Python/3.9/lib/python/site-packages (from mediapipe) (4.10.0.84)\n",
      "Requirement already satisfied: CFFI>=1.0 in /Users/bugruster/Library/Python/3.9/lib/python/site-packages (from sounddevice>=0.4.4->mediapipe) (1.17.0)\n",
      "Requirement already satisfied: pycparser in /Users/bugruster/Library/Python/3.9/lib/python/site-packages (from CFFI>=1.0->sounddevice>=0.4.4->mediapipe) (2.22)\n",
      "Requirement already satisfied: ml-dtypes>=0.2.0 in /Users/bugruster/Library/Python/3.9/lib/python/site-packages (from jax->mediapipe) (0.4.0)\n",
      "Requirement already satisfied: scipy>=1.9 in /Users/bugruster/Library/Python/3.9/lib/python/site-packages (from jax->mediapipe) (1.13.1)\n",
      "Requirement already satisfied: importlib-metadata>=4.6 in /Users/bugruster/Library/Python/3.9/lib/python/site-packages (from jax->mediapipe) (8.4.0)\n",
      "Requirement already satisfied: opt-einsum in /Users/bugruster/Library/Python/3.9/lib/python/site-packages (from jax->mediapipe) (3.3.0)\n",
      "Requirement already satisfied: zipp>=0.5 in /Users/bugruster/Library/Python/3.9/lib/python/site-packages (from importlib-metadata>=4.6->jax->mediapipe) (3.20.0)\n",
      "Requirement already satisfied: python-dateutil>=2.7 in /Users/bugruster/Library/Python/3.9/lib/python/site-packages (from matplotlib->mediapipe) (2.9.0.post0)\n",
      "Requirement already satisfied: importlib-resources>=3.2.0 in /Users/bugruster/Library/Python/3.9/lib/python/site-packages (from matplotlib->mediapipe) (6.4.4)\n",
      "Requirement already satisfied: contourpy>=1.0.1 in /Users/bugruster/Library/Python/3.9/lib/python/site-packages (from matplotlib->mediapipe) (1.2.1)\n",
      "Requirement already satisfied: fonttools>=4.22.0 in /Users/bugruster/Library/Python/3.9/lib/python/site-packages (from matplotlib->mediapipe) (4.53.1)\n",
      "Requirement already satisfied: cycler>=0.10 in /Users/bugruster/Library/Python/3.9/lib/python/site-packages (from matplotlib->mediapipe) (0.12.1)\n",
      "Requirement already satisfied: pyparsing>=2.3.1 in /Users/bugruster/Library/Python/3.9/lib/python/site-packages (from matplotlib->mediapipe) (3.1.2)\n",
      "Requirement already satisfied: kiwisolver>=1.3.1 in /Users/bugruster/Library/Python/3.9/lib/python/site-packages (from matplotlib->mediapipe) (1.4.5)\n",
      "Requirement already satisfied: packaging>=20.0 in /Users/bugruster/Library/Python/3.9/lib/python/site-packages (from matplotlib->mediapipe) (24.1)\n",
      "Requirement already satisfied: pillow>=8 in /Users/bugruster/Library/Python/3.9/lib/python/site-packages (from matplotlib->mediapipe) (10.4.0)\n",
      "Requirement already satisfied: six>=1.5 in /Applications/Xcode.app/Contents/Developer/Library/Frameworks/Python3.framework/Versions/3.9/lib/python3.9/site-packages (from python-dateutil>=2.7->matplotlib->mediapipe) (1.15.0)\n",
      "\u001b[33mWARNING: You are using pip version 21.2.4; however, version 24.2 is available.\n",
      "You should consider upgrading via the '/Applications/Xcode.app/Contents/Developer/usr/bin/python3 -m pip install --upgrade pip' command.\u001b[0m\n"
     ]
    }
   ],
   "source": [
    "!pip3 install mediapipe"
   ]
  },
  {
   "cell_type": "code",
   "execution_count": 2,
   "metadata": {},
   "outputs": [
    {
     "name": "stderr",
     "output_type": "stream",
     "text": [
      "Matplotlib is building the font cache; this may take a moment.\n",
      "/Users/bugruster/Library/Python/3.9/lib/python/site-packages/urllib3/__init__.py:35: NotOpenSSLWarning: urllib3 v2 only supports OpenSSL 1.1.1+, currently the 'ssl' module is compiled with 'LibreSSL 2.8.3'. See: https://github.com/urllib3/urllib3/issues/3020\n",
      "  warnings.warn(\n",
      "WARNING: All log messages before absl::InitializeLog() is called are written to STDERR\n",
      "I0000 00:00:1724319456.358788  943277 gl_context.cc:357] GL version: 2.1 (2.1 Metal - 88.1), renderer: Apple M1\n",
      "INFO: Created TensorFlow Lite XNNPACK delegate for CPU.\n",
      "W0000 00:00:1724319456.365353  948549 inference_feedback_manager.cc:114] Feedback manager requires a model with a single signature inference. Disabling support for feedback tensors.\n",
      "W0000 00:00:1724319456.376829  948549 inference_feedback_manager.cc:114] Feedback manager requires a model with a single signature inference. Disabling support for feedback tensors.\n",
      "/Users/bugruster/Library/Python/3.9/lib/python/site-packages/google/protobuf/symbol_database.py:55: UserWarning: SymbolDatabase.GetPrototype() is deprecated. Please use message_factory.GetMessageClass() instead. SymbolDatabase.GetPrototype() will be removed soon.\n",
      "  warnings.warn('SymbolDatabase.GetPrototype() is deprecated. Please '\n"
     ]
    }
   ],
   "source": [
    "import cv2\n",
    "import mediapipe as mp\n",
    "import os\n",
    "import csv\n",
    "\n",
    "# Initialize MediaPipe Hands\n",
    "mp_hands = mp.solutions.hands\n",
    "hands = mp_hands.Hands(static_image_mode=True, max_num_hands=2, min_detection_confidence=0.5)\n",
    "\n",
    "# Initialize drawing utilities\n",
    "mp_drawing = mp.solutions.drawing_utils\n",
    "\n",
    "def process_frame(frame):\n",
    "    # Convert the frame to RGB\n",
    "    frame_rgb = cv2.cvtColor(frame, cv2.COLOR_BGR2RGB)\n",
    "    # Process the frame and detect hands\n",
    "    result = hands.process(frame_rgb)\n",
    "\n",
    "    landmarks = []\n",
    "    if result.multi_hand_landmarks:\n",
    "        for hand_landmarks in result.multi_hand_landmarks:\n",
    "            # Extract and save landmarks\n",
    "            for landmark in hand_landmarks.landmark:\n",
    "                landmarks.append([landmark.x, landmark.y, landmark.z])\n",
    "    return landmarks\n",
    "\n",
    "def process_folder(input_folder, output_csv):\n",
    "    with open(output_csv, mode='w', newline='') as file:\n",
    "        writer = csv.writer(file)\n",
    "        # Define CSV header\n",
    "        header = ['frame'] + [f'hand_{i}_{axis}' for i in range(21) for axis in ['x', 'y', 'z']]\n",
    "        writer.writerow(header)\n",
    "\n",
    "        # Loop through each frame in the folder\n",
    "        for frame_file in sorted(os.listdir(input_folder)):\n",
    "            frame_path = os.path.join(input_folder, frame_file)\n",
    "            frame = cv2.imread(frame_path)\n",
    "            landmarks = process_frame(frame)\n",
    "\n",
    "            # Write landmarks to CSV\n",
    "            if landmarks:\n",
    "                row = [frame_file] + [coord for landmark in landmarks for coord in landmark]\n",
    "                writer.writerow(row)\n",
    "\n",
    "# Example usage\n",
    "input_base_folder = \"/Users/bugruster/Developer/MjrPrj/anksuchi_frames_ext\"\n",
    "output_csv_folder = \"/Users/bugruster/Developer/MjrPrj/anksuchi_landmarks_csv\"\n",
    "\n",
    "# Create the output folder if it doesn't exist\n",
    "if not os.path.exists(output_csv_folder):\n",
    "    os.makedirs(output_csv_folder)\n",
    "\n",
    "# Process each folder containing frames\n",
    "for folder in os.listdir(input_base_folder):\n",
    "    input_folder = os.path.join(input_base_folder, folder)\n",
    "    output_csv = os.path.join(output_csv_folder, f\"{folder}_landmarks.csv\")\n",
    "\n",
    "    process_folder(input_folder, output_csv)\n"
   ]
  },
  {
   "cell_type": "code",
   "execution_count": 4,
   "metadata": {},
   "outputs": [
    {
     "name": "stdout",
     "output_type": "stream",
     "text": [
      "Defaulting to user installation because normal site-packages is not writeable\n",
      "Requirement already satisfied: pandas in /Users/bugruster/Library/Python/3.9/lib/python/site-packages (2.2.2)\n",
      "Requirement already satisfied: numpy>=1.22.4 in /Users/bugruster/Library/Python/3.9/lib/python/site-packages (from pandas) (1.26.4)\n",
      "Requirement already satisfied: python-dateutil>=2.8.2 in /Users/bugruster/Library/Python/3.9/lib/python/site-packages (from pandas) (2.9.0.post0)\n",
      "Requirement already satisfied: pytz>=2020.1 in /Users/bugruster/Library/Python/3.9/lib/python/site-packages (from pandas) (2024.1)\n",
      "Requirement already satisfied: tzdata>=2022.7 in /Users/bugruster/Library/Python/3.9/lib/python/site-packages (from pandas) (2024.1)\n",
      "Requirement already satisfied: six>=1.5 in /Applications/Xcode.app/Contents/Developer/Library/Frameworks/Python3.framework/Versions/3.9/lib/python3.9/site-packages (from python-dateutil>=2.8.2->pandas) (1.15.0)\n"
     ]
    }
   ],
   "source": [
    "!pip3 install pandas\n"
   ]
  },
  {
   "cell_type": "code",
   "execution_count": 34,
   "metadata": {},
   "outputs": [],
   "source": [
    "import os\n",
    "import pandas as pd\n",
    "\n",
    "def load_data(csv_folder):\n",
    "    data = []\n",
    "    labels = []\n",
    "    for csv_file in os.listdir(csv_folder):\n",
    "        file_path = os.path.join(csv_folder, csv_file)\n",
    "        try:\n",
    "            # Attempt to read the CSV file\n",
    "            df = pd.read_csv(file_path)\n",
    "        except pd.errors.ParserError as e:\n",
    "            # If there's an error, print which file caused it and continue\n",
    "            print(f\"Error parsing {csv_file}: {e}\")\n",
    "            continue\n",
    "        # Extract the label from the CSV filename (e.g., \"word_landmarks.csv\")\n",
    "        label = csv_file.split('_')[0]  # Adjust this based on your filename format\n",
    "        for _, row in df.iterrows():\n",
    "            # Extract the landmark data (skip the frame column)\n",
    "            landmarks = row[1:].values\n",
    "            data.append(landmarks)\n",
    "            labels.append(label)\n",
    "    return data, labels\n",
    "\n",
    "# Run the function\n",
    "csv_folder = \"/Users/bugruster/Developer/MjrPrj/anksuchi_landmarks_csv\"\n",
    "data, labels = load_data(csv_folder)\n",
    "\n"
   ]
  },
  {
   "cell_type": "code",
   "execution_count": 35,
   "metadata": {},
   "outputs": [],
   "source": [
    "\n",
    "import csv\n",
    "import os\n",
    "\n",
    "def clean_csv(file_path, expected_columns=64):\n",
    "    cleaned_rows = []\n",
    "    with open(file_path, 'r') as file:\n",
    "        reader = csv.reader(file)\n",
    "        for row in reader:\n",
    "            if len(row) == expected_columns:\n",
    "                cleaned_rows.append(row)\n",
    "            else:\n",
    "                print(f\"Skipping row with {len(row)} columns in {file_path}: {row}\")\n",
    "\n",
    "    # Write the cleaned data back to the file\n",
    "    with open(file_path, 'w', newline='') as file:\n",
    "        writer = csv.writer(file)\n",
    "        writer.writerows(cleaned_rows)\n",
    "\n",
    "def clean_all_csv_files(csv_folder, expected_columns=64):\n",
    "    for csv_file in os.listdir(csv_folder):\n",
    "        file_path = os.path.join(csv_folder, csv_file)\n",
    "        if csv_file.endswith('.csv'):\n",
    "            clean_csv(file_path, expected_columns)\n",
    "\n",
    "# Specify your folder path and clean the files\n",
    "csv_folder = \"/Users/bugruster/Developer/MjrPrj/anksuchi_landmarks_csv\"\n",
    "clean_all_csv_files(csv_folder)\n"
   ]
  },
  {
   "cell_type": "code",
   "execution_count": 36,
   "metadata": {},
   "outputs": [],
   "source": [
    "import os\n",
    "import pandas as pd\n",
    "import numpy as np\n",
    "def load_data(csv_folder):\n",
    "    data = []\n",
    "    labels = []\n",
    "    for csv_file in os.listdir(csv_folder):\n",
    "        file_path = os.path.join(csv_folder, csv_file)\n",
    "        df = pd.read_csv(file_path)\n",
    "        # Extract the label from the CSV filename (e.g., \"word_landmarks.csv\")\n",
    "        label = csv_file.split('_')[0]  # Adjust this based on your filename format\n",
    "        for _, row in df.iterrows():\n",
    "            # Extract the landmark data (skip the frame column)\n",
    "            landmarks = row[1:].values\n",
    "            data.append(landmarks)\n",
    "            labels.append(label)\n",
    "    return np.array(data), np.array(labels)\n",
    "csv_folder = \"/Users/bugruster/Developer/MjrPrj/anksuchi_landmarks_csv\"\n",
    "data, labels = load_data(csv_folder)\n",
    "\n"
   ]
  },
  {
   "cell_type": "code",
   "execution_count": 37,
   "metadata": {},
   "outputs": [],
   "source": [
    "from sklearn.model_selection import train_test_split\n",
    "X_train, X_test, y_train, y_test = train_test_split(data, labels, test_size=0.2, random_state=42)\n"
   ]
  },
  {
   "cell_type": "code",
   "execution_count": 38,
   "metadata": {},
   "outputs": [],
   "source": [
    "from sklearn.preprocessing import LabelEncoder\n",
    "encoder = LabelEncoder()\n",
    "y_train = encoder.fit_transform(y_train)\n",
    "y_test = encoder.transform(y_test)\n"
   ]
  },
  {
   "cell_type": "code",
   "execution_count": 39,
   "metadata": {},
   "outputs": [],
   "source": [
    "from tensorflow.keras.utils import to_categorical\n",
    "y_train = to_categorical(y_train)\n",
    "y_test = to_categorical(y_test)\n"
   ]
  },
  {
   "cell_type": "code",
   "execution_count": 40,
   "metadata": {},
   "outputs": [
    {
     "name": "stdout",
     "output_type": "stream",
     "text": [
      "X_train shape: (1390, 63)\n",
      "y_train shape: (1390, 1)\n",
      "X_test shape: (348, 63)\n",
      "y_test shape: (348, 1)\n"
     ]
    }
   ],
   "source": [
    "print(f\"X_train shape: {X_train.shape}\")\n",
    "print(f\"y_train shape: {y_train.shape}\")\n",
    "print(f\"X_test shape: {X_test.shape}\")\n",
    "print(f\"y_test shape: {y_test.shape}\")"
   ]
  },
  {
   "cell_type": "code",
   "execution_count": 41,
   "metadata": {},
   "outputs": [
    {
     "name": "stdout",
     "output_type": "stream",
     "text": [
      "          frame  hand_0_x  hand_0_y      hand_0_z  hand_1_x  hand_1_y  \\\n",
      "0   frame_0.jpg  0.483951  0.839016 -5.859787e-08  0.503700  0.820380   \n",
      "1   frame_1.jpg  0.483833  0.839386 -5.510154e-08  0.503567  0.820138   \n",
      "2  frame_10.jpg  0.484048  0.839347 -5.571753e-08  0.503637  0.820481   \n",
      "3  frame_11.jpg  0.484101  0.839273 -5.615657e-08  0.503601  0.820379   \n",
      "4  frame_12.jpg  0.484157  0.839466 -5.777146e-08  0.503626  0.820351   \n",
      "\n",
      "   hand_1_z  hand_2_x  hand_2_y  hand_2_z  ...  hand_17_z  hand_18_x  \\\n",
      "0  0.000056  0.521981  0.823995 -0.000427  ...  -0.002678   0.516552   \n",
      "1 -0.000341  0.522027  0.823059 -0.000969  ...  -0.002772   0.517033   \n",
      "2 -0.000713  0.522098  0.823942 -0.001490  ...  -0.002825   0.516845   \n",
      "3 -0.000842  0.522052  0.823953 -0.001677  ...  -0.002930   0.516694   \n",
      "4 -0.000598  0.522069  0.823759 -0.001354  ...  -0.002806   0.516359   \n",
      "\n",
      "   hand_18_y  hand_18_z  hand_19_x  hand_19_y  hand_19_z  hand_20_x  \\\n",
      "0   0.928534  -0.001763   0.525772   0.930387   0.003068   0.530283   \n",
      "1   0.928165  -0.001748   0.526223   0.929632   0.003018   0.530419   \n",
      "2   0.928508  -0.002098   0.526131   0.930251   0.002251   0.530634   \n",
      "3   0.928535  -0.002295   0.525993   0.930418   0.002144   0.530479   \n",
      "4   0.928049  -0.001954   0.525527   0.930189   0.002483   0.530030   \n",
      "\n",
      "   hand_20_y  hand_20_z  \n",
      "0   0.926100   0.008367  \n",
      "1   0.925165   0.008165  \n",
      "2   0.925923   0.007028  \n",
      "3   0.926211   0.007059  \n",
      "4   0.926154   0.007295  \n",
      "\n",
      "[5 rows x 64 columns]\n"
     ]
    }
   ],
   "source": [
    "import os\n",
    "import pandas as pd\n",
    "\n",
    "csv_folder = \"/Users/bugruster/Developer/MjrPrj/anksuchi_landmarks_csv\"\n",
    "\n",
    "# Initialize an empty list to store DataFrames\n",
    "data_frames = []\n",
    "\n",
    "# Loop through all CSV files in the folder\n",
    "for csv_file in os.listdir(csv_folder):\n",
    "    if csv_file.endswith('.csv'):\n",
    "        file_path = os.path.join(csv_folder, csv_file)\n",
    "        df = pd.read_csv(file_path)\n",
    "        data_frames.append(df)\n",
    "\n",
    "# Concatenate all DataFrames into one\n",
    "data = pd.concat(data_frames, ignore_index=True)\n",
    "\n",
    "print(data.head())  # To check the first few rows of the combined DataFrame"
   ]
  },
  {
   "cell_type": "code",
   "execution_count": 42,
   "metadata": {},
   "outputs": [
    {
     "name": "stdout",
     "output_type": "stream",
     "text": [
      "Defaulting to user installation because normal site-packages is not writeable\n",
      "Requirement already satisfied: tensorflow in /Users/bugruster/Library/Python/3.9/lib/python/site-packages (2.17.0)\n",
      "Requirement already satisfied: absl-py>=1.0.0 in /Users/bugruster/Library/Python/3.9/lib/python/site-packages (from tensorflow) (2.1.0)\n",
      "Requirement already satisfied: astunparse>=1.6.0 in /Users/bugruster/Library/Python/3.9/lib/python/site-packages (from tensorflow) (1.6.3)\n",
      "Requirement already satisfied: flatbuffers>=24.3.25 in /Users/bugruster/Library/Python/3.9/lib/python/site-packages (from tensorflow) (24.3.25)\n",
      "Requirement already satisfied: gast!=0.5.0,!=0.5.1,!=0.5.2,>=0.2.1 in /Users/bugruster/Library/Python/3.9/lib/python/site-packages (from tensorflow) (0.6.0)\n",
      "Requirement already satisfied: google-pasta>=0.1.1 in /Users/bugruster/Library/Python/3.9/lib/python/site-packages (from tensorflow) (0.2.0)\n",
      "Requirement already satisfied: h5py>=3.10.0 in /Users/bugruster/Library/Python/3.9/lib/python/site-packages (from tensorflow) (3.11.0)\n",
      "Requirement already satisfied: libclang>=13.0.0 in /Users/bugruster/Library/Python/3.9/lib/python/site-packages (from tensorflow) (18.1.1)\n",
      "Requirement already satisfied: ml-dtypes<0.5.0,>=0.3.1 in /Users/bugruster/Library/Python/3.9/lib/python/site-packages (from tensorflow) (0.4.0)\n",
      "Requirement already satisfied: opt-einsum>=2.3.2 in /Users/bugruster/Library/Python/3.9/lib/python/site-packages (from tensorflow) (3.3.0)\n",
      "Requirement already satisfied: packaging in /Users/bugruster/Library/Python/3.9/lib/python/site-packages (from tensorflow) (24.1)\n",
      "Requirement already satisfied: protobuf!=4.21.0,!=4.21.1,!=4.21.2,!=4.21.3,!=4.21.4,!=4.21.5,<5.0.0dev,>=3.20.3 in /Users/bugruster/Library/Python/3.9/lib/python/site-packages (from tensorflow) (4.25.4)\n",
      "Requirement already satisfied: requests<3,>=2.21.0 in /Users/bugruster/Library/Python/3.9/lib/python/site-packages (from tensorflow) (2.32.3)\n",
      "Requirement already satisfied: setuptools in /Applications/Xcode.app/Contents/Developer/Library/Frameworks/Python3.framework/Versions/3.9/lib/python3.9/site-packages (from tensorflow) (58.0.4)\n",
      "Requirement already satisfied: six>=1.12.0 in /Applications/Xcode.app/Contents/Developer/Library/Frameworks/Python3.framework/Versions/3.9/lib/python3.9/site-packages (from tensorflow) (1.15.0)\n",
      "Requirement already satisfied: termcolor>=1.1.0 in /Users/bugruster/Library/Python/3.9/lib/python/site-packages (from tensorflow) (2.4.0)\n",
      "Requirement already satisfied: typing-extensions>=3.6.6 in /Users/bugruster/Library/Python/3.9/lib/python/site-packages (from tensorflow) (4.12.2)\n",
      "Requirement already satisfied: wrapt>=1.11.0 in /Users/bugruster/Library/Python/3.9/lib/python/site-packages (from tensorflow) (1.16.0)\n",
      "Requirement already satisfied: grpcio<2.0,>=1.24.3 in /Users/bugruster/Library/Python/3.9/lib/python/site-packages (from tensorflow) (1.65.5)\n",
      "Requirement already satisfied: tensorboard<2.18,>=2.17 in /Users/bugruster/Library/Python/3.9/lib/python/site-packages (from tensorflow) (2.17.1)\n",
      "Requirement already satisfied: keras>=3.2.0 in /Users/bugruster/Library/Python/3.9/lib/python/site-packages (from tensorflow) (3.5.0)\n",
      "Requirement already satisfied: tensorflow-io-gcs-filesystem>=0.23.1 in /Users/bugruster/Library/Python/3.9/lib/python/site-packages (from tensorflow) (0.37.1)\n",
      "Requirement already satisfied: numpy<2.0.0,>=1.23.5 in /Users/bugruster/Library/Python/3.9/lib/python/site-packages (from tensorflow) (1.26.4)\n",
      "Requirement already satisfied: wheel<1.0,>=0.23.0 in /Applications/Xcode.app/Contents/Developer/Library/Frameworks/Python3.framework/Versions/3.9/lib/python3.9/site-packages (from astunparse>=1.6.0->tensorflow) (0.37.0)\n",
      "Requirement already satisfied: rich in /Users/bugruster/Library/Python/3.9/lib/python/site-packages (from keras>=3.2.0->tensorflow) (13.7.1)\n",
      "Requirement already satisfied: namex in /Users/bugruster/Library/Python/3.9/lib/python/site-packages (from keras>=3.2.0->tensorflow) (0.0.8)\n",
      "Requirement already satisfied: optree in /Users/bugruster/Library/Python/3.9/lib/python/site-packages (from keras>=3.2.0->tensorflow) (0.12.1)\n",
      "Requirement already satisfied: charset-normalizer<4,>=2 in /Users/bugruster/Library/Python/3.9/lib/python/site-packages (from requests<3,>=2.21.0->tensorflow) (3.3.2)\n",
      "Requirement already satisfied: idna<4,>=2.5 in /Users/bugruster/Library/Python/3.9/lib/python/site-packages (from requests<3,>=2.21.0->tensorflow) (3.7)\n",
      "Requirement already satisfied: urllib3<3,>=1.21.1 in /Users/bugruster/Library/Python/3.9/lib/python/site-packages (from requests<3,>=2.21.0->tensorflow) (2.2.2)\n",
      "Requirement already satisfied: certifi>=2017.4.17 in /Users/bugruster/Library/Python/3.9/lib/python/site-packages (from requests<3,>=2.21.0->tensorflow) (2024.7.4)\n",
      "Requirement already satisfied: markdown>=2.6.8 in /Users/bugruster/Library/Python/3.9/lib/python/site-packages (from tensorboard<2.18,>=2.17->tensorflow) (3.7)\n",
      "Requirement already satisfied: tensorboard-data-server<0.8.0,>=0.7.0 in /Users/bugruster/Library/Python/3.9/lib/python/site-packages (from tensorboard<2.18,>=2.17->tensorflow) (0.7.2)\n",
      "Requirement already satisfied: werkzeug>=1.0.1 in /Users/bugruster/Library/Python/3.9/lib/python/site-packages (from tensorboard<2.18,>=2.17->tensorflow) (3.0.4)\n",
      "Requirement already satisfied: importlib-metadata>=4.4 in /Users/bugruster/Library/Python/3.9/lib/python/site-packages (from markdown>=2.6.8->tensorboard<2.18,>=2.17->tensorflow) (8.4.0)\n",
      "Requirement already satisfied: MarkupSafe>=2.1.1 in /Users/bugruster/Library/Python/3.9/lib/python/site-packages (from werkzeug>=1.0.1->tensorboard<2.18,>=2.17->tensorflow) (2.1.5)\n",
      "Requirement already satisfied: markdown-it-py>=2.2.0 in /Users/bugruster/Library/Python/3.9/lib/python/site-packages (from rich->keras>=3.2.0->tensorflow) (3.0.0)\n",
      "Requirement already satisfied: pygments<3.0.0,>=2.13.0 in /Users/bugruster/Library/Python/3.9/lib/python/site-packages (from rich->keras>=3.2.0->tensorflow) (2.18.0)\n",
      "Requirement already satisfied: zipp>=0.5 in /Users/bugruster/Library/Python/3.9/lib/python/site-packages (from importlib-metadata>=4.4->markdown>=2.6.8->tensorboard<2.18,>=2.17->tensorflow) (3.20.0)\n",
      "Requirement already satisfied: mdurl~=0.1 in /Users/bugruster/Library/Python/3.9/lib/python/site-packages (from markdown-it-py>=2.2.0->rich->keras>=3.2.0->tensorflow) (0.1.2)\n"
     ]
    }
   ],
   "source": [
    "!pip3 install tensorflow"
   ]
  },
  {
   "cell_type": "code",
   "execution_count": 43,
   "metadata": {},
   "outputs": [
    {
     "name": "stderr",
     "output_type": "stream",
     "text": [
      "/Users/bugruster/Library/Python/3.9/lib/python/site-packages/keras/src/layers/core/dense.py:87: UserWarning: Do not pass an `input_shape`/`input_dim` argument to a layer. When using Sequential models, prefer using an `Input(shape)` object as the first layer in the model instead.\n",
      "  super().__init__(activity_regularizer=activity_regularizer, **kwargs)\n"
     ]
    },
    {
     "data": {
      "text/html": [
       "<pre style=\"white-space:pre;overflow-x:auto;line-height:normal;font-family:Menlo,'DejaVu Sans Mono',consolas,'Courier New',monospace\"><span style=\"font-weight: bold\">Model: \"sequential_3\"</span>\n",
       "</pre>\n"
      ],
      "text/plain": [
       "\u001b[1mModel: \"sequential_3\"\u001b[0m\n"
      ]
     },
     "metadata": {},
     "output_type": "display_data"
    },
    {
     "data": {
      "text/html": [
       "<pre style=\"white-space:pre;overflow-x:auto;line-height:normal;font-family:Menlo,'DejaVu Sans Mono',consolas,'Courier New',monospace\">┏━━━━━━━━━━━━━━━━━━━━━━━━━━━━━━━━━┳━━━━━━━━━━━━━━━━━━━━━━━━┳━━━━━━━━━━━━━━━┓\n",
       "┃<span style=\"font-weight: bold\"> Layer (type)                    </span>┃<span style=\"font-weight: bold\"> Output Shape           </span>┃<span style=\"font-weight: bold\">       Param # </span>┃\n",
       "┡━━━━━━━━━━━━━━━━━━━━━━━━━━━━━━━━━╇━━━━━━━━━━━━━━━━━━━━━━━━╇━━━━━━━━━━━━━━━┩\n",
       "│ dense_12 (<span style=\"color: #0087ff; text-decoration-color: #0087ff\">Dense</span>)                │ (<span style=\"color: #00d7ff; text-decoration-color: #00d7ff\">None</span>, <span style=\"color: #00af00; text-decoration-color: #00af00\">128</span>)            │         <span style=\"color: #00af00; text-decoration-color: #00af00\">8,192</span> │\n",
       "├─────────────────────────────────┼────────────────────────┼───────────────┤\n",
       "│ dropout_6 (<span style=\"color: #0087ff; text-decoration-color: #0087ff\">Dropout</span>)             │ (<span style=\"color: #00d7ff; text-decoration-color: #00d7ff\">None</span>, <span style=\"color: #00af00; text-decoration-color: #00af00\">128</span>)            │             <span style=\"color: #00af00; text-decoration-color: #00af00\">0</span> │\n",
       "├─────────────────────────────────┼────────────────────────┼───────────────┤\n",
       "│ dense_13 (<span style=\"color: #0087ff; text-decoration-color: #0087ff\">Dense</span>)                │ (<span style=\"color: #00d7ff; text-decoration-color: #00d7ff\">None</span>, <span style=\"color: #00af00; text-decoration-color: #00af00\">64</span>)             │         <span style=\"color: #00af00; text-decoration-color: #00af00\">8,256</span> │\n",
       "├─────────────────────────────────┼────────────────────────┼───────────────┤\n",
       "│ dropout_7 (<span style=\"color: #0087ff; text-decoration-color: #0087ff\">Dropout</span>)             │ (<span style=\"color: #00d7ff; text-decoration-color: #00d7ff\">None</span>, <span style=\"color: #00af00; text-decoration-color: #00af00\">64</span>)             │             <span style=\"color: #00af00; text-decoration-color: #00af00\">0</span> │\n",
       "├─────────────────────────────────┼────────────────────────┼───────────────┤\n",
       "│ dense_14 (<span style=\"color: #0087ff; text-decoration-color: #0087ff\">Dense</span>)                │ (<span style=\"color: #00d7ff; text-decoration-color: #00d7ff\">None</span>, <span style=\"color: #00af00; text-decoration-color: #00af00\">32</span>)             │         <span style=\"color: #00af00; text-decoration-color: #00af00\">2,080</span> │\n",
       "├─────────────────────────────────┼────────────────────────┼───────────────┤\n",
       "│ dense_15 (<span style=\"color: #0087ff; text-decoration-color: #0087ff\">Dense</span>)                │ (<span style=\"color: #00d7ff; text-decoration-color: #00d7ff\">None</span>, <span style=\"color: #00af00; text-decoration-color: #00af00\">1</span>)              │            <span style=\"color: #00af00; text-decoration-color: #00af00\">33</span> │\n",
       "└─────────────────────────────────┴────────────────────────┴───────────────┘\n",
       "</pre>\n"
      ],
      "text/plain": [
       "┏━━━━━━━━━━━━━━━━━━━━━━━━━━━━━━━━━┳━━━━━━━━━━━━━━━━━━━━━━━━┳━━━━━━━━━━━━━━━┓\n",
       "┃\u001b[1m \u001b[0m\u001b[1mLayer (type)                   \u001b[0m\u001b[1m \u001b[0m┃\u001b[1m \u001b[0m\u001b[1mOutput Shape          \u001b[0m\u001b[1m \u001b[0m┃\u001b[1m \u001b[0m\u001b[1m      Param #\u001b[0m\u001b[1m \u001b[0m┃\n",
       "┡━━━━━━━━━━━━━━━━━━━━━━━━━━━━━━━━━╇━━━━━━━━━━━━━━━━━━━━━━━━╇━━━━━━━━━━━━━━━┩\n",
       "│ dense_12 (\u001b[38;5;33mDense\u001b[0m)                │ (\u001b[38;5;45mNone\u001b[0m, \u001b[38;5;34m128\u001b[0m)            │         \u001b[38;5;34m8,192\u001b[0m │\n",
       "├─────────────────────────────────┼────────────────────────┼───────────────┤\n",
       "│ dropout_6 (\u001b[38;5;33mDropout\u001b[0m)             │ (\u001b[38;5;45mNone\u001b[0m, \u001b[38;5;34m128\u001b[0m)            │             \u001b[38;5;34m0\u001b[0m │\n",
       "├─────────────────────────────────┼────────────────────────┼───────────────┤\n",
       "│ dense_13 (\u001b[38;5;33mDense\u001b[0m)                │ (\u001b[38;5;45mNone\u001b[0m, \u001b[38;5;34m64\u001b[0m)             │         \u001b[38;5;34m8,256\u001b[0m │\n",
       "├─────────────────────────────────┼────────────────────────┼───────────────┤\n",
       "│ dropout_7 (\u001b[38;5;33mDropout\u001b[0m)             │ (\u001b[38;5;45mNone\u001b[0m, \u001b[38;5;34m64\u001b[0m)             │             \u001b[38;5;34m0\u001b[0m │\n",
       "├─────────────────────────────────┼────────────────────────┼───────────────┤\n",
       "│ dense_14 (\u001b[38;5;33mDense\u001b[0m)                │ (\u001b[38;5;45mNone\u001b[0m, \u001b[38;5;34m32\u001b[0m)             │         \u001b[38;5;34m2,080\u001b[0m │\n",
       "├─────────────────────────────────┼────────────────────────┼───────────────┤\n",
       "│ dense_15 (\u001b[38;5;33mDense\u001b[0m)                │ (\u001b[38;5;45mNone\u001b[0m, \u001b[38;5;34m1\u001b[0m)              │            \u001b[38;5;34m33\u001b[0m │\n",
       "└─────────────────────────────────┴────────────────────────┴───────────────┘\n"
      ]
     },
     "metadata": {},
     "output_type": "display_data"
    },
    {
     "data": {
      "text/html": [
       "<pre style=\"white-space:pre;overflow-x:auto;line-height:normal;font-family:Menlo,'DejaVu Sans Mono',consolas,'Courier New',monospace\"><span style=\"font-weight: bold\"> Total params: </span><span style=\"color: #00af00; text-decoration-color: #00af00\">18,561</span> (72.50 KB)\n",
       "</pre>\n"
      ],
      "text/plain": [
       "\u001b[1m Total params: \u001b[0m\u001b[38;5;34m18,561\u001b[0m (72.50 KB)\n"
      ]
     },
     "metadata": {},
     "output_type": "display_data"
    },
    {
     "data": {
      "text/html": [
       "<pre style=\"white-space:pre;overflow-x:auto;line-height:normal;font-family:Menlo,'DejaVu Sans Mono',consolas,'Courier New',monospace\"><span style=\"font-weight: bold\"> Trainable params: </span><span style=\"color: #00af00; text-decoration-color: #00af00\">18,561</span> (72.50 KB)\n",
       "</pre>\n"
      ],
      "text/plain": [
       "\u001b[1m Trainable params: \u001b[0m\u001b[38;5;34m18,561\u001b[0m (72.50 KB)\n"
      ]
     },
     "metadata": {},
     "output_type": "display_data"
    },
    {
     "data": {
      "text/html": [
       "<pre style=\"white-space:pre;overflow-x:auto;line-height:normal;font-family:Menlo,'DejaVu Sans Mono',consolas,'Courier New',monospace\"><span style=\"font-weight: bold\"> Non-trainable params: </span><span style=\"color: #00af00; text-decoration-color: #00af00\">0</span> (0.00 B)\n",
       "</pre>\n"
      ],
      "text/plain": [
       "\u001b[1m Non-trainable params: \u001b[0m\u001b[38;5;34m0\u001b[0m (0.00 B)\n"
      ]
     },
     "metadata": {},
     "output_type": "display_data"
    }
   ],
   "source": [
    "import tensorflow as tf\n",
    "from tensorflow.keras.models import Sequential\n",
    "from tensorflow.keras.layers import Dense, Dropout\n",
    "from sklearn.preprocessing import LabelEncoder\n",
    "\n",
    "X_train = np.array(X_train, dtype='float32')\n",
    "X_test = np.array(X_test, dtype='float32')\n",
    "\n",
    "# Convert y_train and y_test to categorical if they are labels\n",
    "y_train = to_categorical(y_train)\n",
    "y_test = to_categorical(y_test)\n",
    "\n",
    "# Fit the LabelEncoder on the training labels\n",
    "y_train = np.argmax(y_train, axis=1)\n",
    "y_test = np.argmax(y_test, axis=1)\n",
    "\n",
    "# Update the code with the correct number of output classes\n",
    "model = Sequential([\n",
    "    Dense(128, input_shape=(X_train.shape[1],), activation='relu'),\n",
    "    Dropout(0.3),  # To prevent overfitting\n",
    "    Dense(64, activation='relu'),\n",
    "    Dropout(0.3),\n",
    "    Dense(32, activation='relu'),\n",
    "    Dense(output_classes, activation='softmax')  # Output layer\n",
    "])\n",
    "\n",
    "# Display the model summary\n",
    "model.summary()\n"
   ]
  },
  {
   "cell_type": "code",
   "execution_count": 44,
   "metadata": {},
   "outputs": [],
   "source": [
    "model.compile(optimizer='adam', loss='sparse_categorical_crossentropy', metrics=['accuracy'])"
   ]
  },
  {
   "cell_type": "code",
   "execution_count": null,
   "metadata": {},
   "outputs": [],
   "source": []
  },
  {
   "cell_type": "code",
   "execution_count": 45,
   "metadata": {},
   "outputs": [
    {
     "name": "stdout",
     "output_type": "stream",
     "text": [
      "(1390, 63)\n",
      "(1390,)\n"
     ]
    }
   ],
   "source": [
    "# print the shape of the input and output data\n",
    "print(X_train.shape)\n",
    "print(y_train.shape)\n"
   ]
  },
  {
   "cell_type": "code",
   "execution_count": 47,
   "metadata": {},
   "outputs": [
    {
     "name": "stdout",
     "output_type": "stream",
     "text": [
      "(1390, 1)\n",
      "(1390, 1)\n"
     ]
    }
   ],
   "source": [
    "# Check the shape of y_train\n",
    "print(y_train.shape)\n",
    "\n",
    "# Reshape the output data\n",
    "y_train = y_train.reshape(-1, 1)\n",
    "\n",
    "# Print the new shape\n",
    "print(y_train.shape)"
   ]
  },
  {
   "cell_type": "code",
   "execution_count": 52,
   "metadata": {},
   "outputs": [
    {
     "name": "stderr",
     "output_type": "stream",
     "text": [
      "/Users/bugruster/Library/Python/3.9/lib/python/site-packages/keras/src/layers/core/dense.py:87: UserWarning: Do not pass an `input_shape`/`input_dim` argument to a layer. When using Sequential models, prefer using an `Input(shape)` object as the first layer in the model instead.\n",
      "  super().__init__(activity_regularizer=activity_regularizer, **kwargs)\n"
     ]
    }
   ],
   "source": [
    "# Convert y_train and y_test to categorical if they are labels\n",
    "y_train = to_categorical(y_train)\n",
    "y_test = to_categorical(y_test)\n",
    "\n",
    "# Update the code with the correct number of output classes\n",
    "output_classes = y_train.shape[1]\n",
    "\n",
    "# Fit the LabelEncoder on the training labels\n",
    "# Update the last layer of the model to have the correct number of units\n",
    "model = Sequential([\n",
    "    Dense(128, input_shape=(X_train.shape[1],), activation='relu'),\n",
    "    Dropout(0.3),\n",
    "    Dense(64, activation='relu'),\n",
    "    Dropout(0.3),\n",
    "    Dense(32, activation='relu'),\n",
    "    Dense(output_classes, activation='softmax')  # Update the number of units\n",
    "])\n",
    "\n",
    "# Compile the model\n",
    "model.compile(optimizer='adam', loss='categorical_crossentropy', metrics=['accuracy'])\n",
    "\n"
   ]
  },
  {
   "cell_type": "code",
   "execution_count": 55,
   "metadata": {},
   "outputs": [],
   "source": [
    "# Reshape y_train to have the same rank as the output variable\n",
    "y_train = y_train.reshape(-1, output_classes)\n"
   ]
  },
  {
   "cell_type": "code",
   "execution_count": 1,
   "metadata": {},
   "outputs": [
    {
     "ename": "NameError",
     "evalue": "name 'model' is not defined",
     "output_type": "error",
     "traceback": [
      "\u001b[0;31m---------------------------------------------------------------------------\u001b[0m",
      "\u001b[0;31mNameError\u001b[0m                                 Traceback (most recent call last)",
      "Cell \u001b[0;32mIn[1], line 2\u001b[0m\n\u001b[1;32m      1\u001b[0m \u001b[38;5;66;03m#train the model\u001b[39;00m\n\u001b[0;32m----> 2\u001b[0m \u001b[43mmodel\u001b[49m\u001b[38;5;241m.\u001b[39mfit(X_train, y_train, epochs\u001b[38;5;241m=\u001b[39m\u001b[38;5;241m50\u001b[39m, batch_size\u001b[38;5;241m=\u001b[39m\u001b[38;5;241m32\u001b[39m, validation_split\u001b[38;5;241m=\u001b[39m\u001b[38;5;241m0.2\u001b[39m)\n",
      "\u001b[0;31mNameError\u001b[0m: name 'model' is not defined"
     ]
    }
   ],
   "source": [
    "#train the model\n",
    "model.fit(X_train, y_train, epochs=50, batch_size=32, validation_split=0.2)"
   ]
  },
  {
   "cell_type": "code",
   "execution_count": 69,
   "metadata": {},
   "outputs": [
    {
     "name": "stdout",
     "output_type": "stream",
     "text": [
      "          frame  hand_0_x  hand_0_y      hand_0_z  hand_1_x  hand_1_y  \\\n",
      "0   frame_0.jpg  0.483951  0.839016 -5.859787e-08  0.503700  0.820380   \n",
      "1   frame_1.jpg  0.483833  0.839386 -5.510154e-08  0.503567  0.820138   \n",
      "2  frame_10.jpg  0.484048  0.839347 -5.571753e-08  0.503637  0.820481   \n",
      "3  frame_11.jpg  0.484101  0.839273 -5.615657e-08  0.503601  0.820379   \n",
      "4  frame_12.jpg  0.484157  0.839466 -5.777146e-08  0.503626  0.820351   \n",
      "\n",
      "   hand_1_z  hand_2_x  hand_2_y  hand_2_z  ...  hand_17_z  hand_18_x  \\\n",
      "0  0.000056  0.521981  0.823995 -0.000427  ...  -0.002678   0.516552   \n",
      "1 -0.000341  0.522027  0.823059 -0.000969  ...  -0.002772   0.517033   \n",
      "2 -0.000713  0.522098  0.823942 -0.001490  ...  -0.002825   0.516845   \n",
      "3 -0.000842  0.522052  0.823953 -0.001677  ...  -0.002930   0.516694   \n",
      "4 -0.000598  0.522069  0.823759 -0.001354  ...  -0.002806   0.516359   \n",
      "\n",
      "   hand_18_y  hand_18_z  hand_19_x  hand_19_y  hand_19_z  hand_20_x  \\\n",
      "0   0.928534  -0.001763   0.525772   0.930387   0.003068   0.530283   \n",
      "1   0.928165  -0.001748   0.526223   0.929632   0.003018   0.530419   \n",
      "2   0.928508  -0.002098   0.526131   0.930251   0.002251   0.530634   \n",
      "3   0.928535  -0.002295   0.525993   0.930418   0.002144   0.530479   \n",
      "4   0.928049  -0.001954   0.525527   0.930189   0.002483   0.530030   \n",
      "\n",
      "   hand_20_y  hand_20_z  \n",
      "0   0.926100   0.008367  \n",
      "1   0.925165   0.008165  \n",
      "2   0.925923   0.007028  \n",
      "3   0.926211   0.007059  \n",
      "4   0.926154   0.007295  \n",
      "\n",
      "[5 rows x 64 columns]\n",
      "frame        0\n",
      "hand_0_x     0\n",
      "hand_0_y     0\n",
      "hand_0_z     0\n",
      "hand_1_x     0\n",
      "            ..\n",
      "hand_19_y    0\n",
      "hand_19_z    0\n",
      "hand_20_x    0\n",
      "hand_20_y    0\n",
      "hand_20_z    0\n",
      "Length: 64, dtype: int64\n",
      "frame         object\n",
      "hand_0_x     float64\n",
      "hand_0_y     float64\n",
      "hand_0_z     float64\n",
      "hand_1_x     float64\n",
      "              ...   \n",
      "hand_19_y    float64\n",
      "hand_19_z    float64\n",
      "hand_20_x    float64\n",
      "hand_20_y    float64\n",
      "hand_20_z    float64\n",
      "Length: 64, dtype: object\n"
     ]
    }
   ],
   "source": [
    "import os\n",
    "import pandas as pd\n",
    "\n",
    "csv_folder = \"/Users/bugruster/Developer/MjrPrj/anksuchi_landmarks_csv\"\n",
    "data_frames = []\n",
    "\n",
    "for csv_file in os.listdir(csv_folder):\n",
    "    if csv_file.endswith('.csv'):\n",
    "        file_path = os.path.join(csv_folder, csv_file)\n",
    "        df = pd.read_csv(file_path)\n",
    "        data_frames.append(df)\n",
    "\n",
    "data = pd.concat(data_frames, ignore_index=True)\n",
    "\n",
    "# Check the first few rows of the dataset to understand its structure\n",
    "print(data.head())\n",
    "\n",
    "# Check for NaN values in the dataset\n",
    "print(data.isnull().sum())\n",
    "\n",
    "# Check data types to ensure all columns are numeric except the label column\n",
    "print(data.dtypes)\n",
    "\n"
   ]
  },
  {
   "cell_type": "code",
   "execution_count": 70,
   "metadata": {},
   "outputs": [
    {
     "name": "stdout",
     "output_type": "stream",
     "text": [
      "Column frame cannot be converted to numeric.\n",
      "frame         object\n",
      "hand_0_x     float64\n",
      "hand_0_y     float64\n",
      "hand_0_z     float64\n",
      "hand_1_x     float64\n",
      "              ...   \n",
      "hand_19_y    float64\n",
      "hand_19_z    float64\n",
      "hand_20_x    float64\n",
      "hand_20_y    float64\n",
      "hand_20_z    float64\n",
      "Length: 64, dtype: object\n"
     ]
    }
   ],
   "source": [
    "# Fill NaN values with 0 (or use a different strategy if needed)\n",
    "data = data.fillna(0)\n",
    "\n",
    "# Convert all feature columns to numeric types\n",
    "for col in data.columns:\n",
    "    if data[col].dtype == 'object':\n",
    "        try:\n",
    "            data[col] = pd.to_numeric(data[col])\n",
    "        except ValueError:\n",
    "            print(f\"Column {col} cannot be converted to numeric.\")\n",
    "\n",
    "# Check again after conversion\n",
    "print(data.dtypes)\n"
   ]
  },
  {
   "cell_type": "code",
   "execution_count": 71,
   "metadata": {},
   "outputs": [
    {
     "name": "stdout",
     "output_type": "stream",
     "text": [
      "Index(['frame', 'hand_0_x', 'hand_0_y', 'hand_0_z', 'hand_1_x', 'hand_1_y',\n",
      "       'hand_1_z', 'hand_2_x', 'hand_2_y', 'hand_2_z', 'hand_3_x', 'hand_3_y',\n",
      "       'hand_3_z', 'hand_4_x', 'hand_4_y', 'hand_4_z', 'hand_5_x', 'hand_5_y',\n",
      "       'hand_5_z', 'hand_6_x', 'hand_6_y', 'hand_6_z', 'hand_7_x', 'hand_7_y',\n",
      "       'hand_7_z', 'hand_8_x', 'hand_8_y', 'hand_8_z', 'hand_9_x', 'hand_9_y',\n",
      "       'hand_9_z', 'hand_10_x', 'hand_10_y', 'hand_10_z', 'hand_11_x',\n",
      "       'hand_11_y', 'hand_11_z', 'hand_12_x', 'hand_12_y', 'hand_12_z',\n",
      "       'hand_13_x', 'hand_13_y', 'hand_13_z', 'hand_14_x', 'hand_14_y',\n",
      "       'hand_14_z', 'hand_15_x', 'hand_15_y', 'hand_15_z', 'hand_16_x',\n",
      "       'hand_16_y', 'hand_16_z', 'hand_17_x', 'hand_17_y', 'hand_17_z',\n",
      "       'hand_18_x', 'hand_18_y', 'hand_18_z', 'hand_19_x', 'hand_19_y',\n",
      "       'hand_19_z', 'hand_20_x', 'hand_20_y', 'hand_20_z'],\n",
      "      dtype='object')\n"
     ]
    }
   ],
   "source": [
    "# Print column names to identify the label column\n",
    "print(data.columns)\n",
    "\n",
    "# Replace 'sign_class' with the correct label column name\n",
    "label_column = 'sign_class'  # Update this if your label column is named differently\n"
   ]
  },
  {
   "cell_type": "code",
   "execution_count": 73,
   "metadata": {},
   "outputs": [
    {
     "ename": "KeyError",
     "evalue": "\"['sign_class'] not found in axis\"",
     "output_type": "error",
     "traceback": [
      "\u001b[0;31m---------------------------------------------------------------------------\u001b[0m",
      "\u001b[0;31mKeyError\u001b[0m                                  Traceback (most recent call last)",
      "Cell \u001b[0;32mIn[73], line 2\u001b[0m\n\u001b[1;32m      1\u001b[0m \u001b[38;5;66;03m# Drop the label column to get the features\u001b[39;00m\n\u001b[0;32m----> 2\u001b[0m X \u001b[38;5;241m=\u001b[39m \u001b[43mdata\u001b[49m\u001b[38;5;241;43m.\u001b[39;49m\u001b[43mdrop\u001b[49m\u001b[43m(\u001b[49m\u001b[43mcolumns\u001b[49m\u001b[38;5;241;43m=\u001b[39;49m\u001b[43m[\u001b[49m\u001b[43mlabel_column\u001b[49m\u001b[43m]\u001b[49m\u001b[43m)\u001b[49m\n\u001b[1;32m      4\u001b[0m \u001b[38;5;66;03m# Encode the labels if they are not already numeric\u001b[39;00m\n\u001b[1;32m      5\u001b[0m \u001b[38;5;28;01mfrom\u001b[39;00m \u001b[38;5;21;01msklearn\u001b[39;00m\u001b[38;5;21;01m.\u001b[39;00m\u001b[38;5;21;01mpreprocessing\u001b[39;00m \u001b[38;5;28;01mimport\u001b[39;00m LabelEncoder\n",
      "File \u001b[0;32m~/Library/Python/3.9/lib/python/site-packages/pandas/core/frame.py:5581\u001b[0m, in \u001b[0;36mDataFrame.drop\u001b[0;34m(self, labels, axis, index, columns, level, inplace, errors)\u001b[0m\n\u001b[1;32m   5433\u001b[0m \u001b[38;5;28;01mdef\u001b[39;00m \u001b[38;5;21mdrop\u001b[39m(\n\u001b[1;32m   5434\u001b[0m     \u001b[38;5;28mself\u001b[39m,\n\u001b[1;32m   5435\u001b[0m     labels: IndexLabel \u001b[38;5;241m|\u001b[39m \u001b[38;5;28;01mNone\u001b[39;00m \u001b[38;5;241m=\u001b[39m \u001b[38;5;28;01mNone\u001b[39;00m,\n\u001b[0;32m   (...)\u001b[0m\n\u001b[1;32m   5442\u001b[0m     errors: IgnoreRaise \u001b[38;5;241m=\u001b[39m \u001b[38;5;124m\"\u001b[39m\u001b[38;5;124mraise\u001b[39m\u001b[38;5;124m\"\u001b[39m,\n\u001b[1;32m   5443\u001b[0m ) \u001b[38;5;241m-\u001b[39m\u001b[38;5;241m>\u001b[39m DataFrame \u001b[38;5;241m|\u001b[39m \u001b[38;5;28;01mNone\u001b[39;00m:\n\u001b[1;32m   5444\u001b[0m \u001b[38;5;250m    \u001b[39m\u001b[38;5;124;03m\"\"\"\u001b[39;00m\n\u001b[1;32m   5445\u001b[0m \u001b[38;5;124;03m    Drop specified labels from rows or columns.\u001b[39;00m\n\u001b[1;32m   5446\u001b[0m \n\u001b[0;32m   (...)\u001b[0m\n\u001b[1;32m   5579\u001b[0m \u001b[38;5;124;03m            weight  1.0     0.8\u001b[39;00m\n\u001b[1;32m   5580\u001b[0m \u001b[38;5;124;03m    \"\"\"\u001b[39;00m\n\u001b[0;32m-> 5581\u001b[0m     \u001b[38;5;28;01mreturn\u001b[39;00m \u001b[38;5;28;43msuper\u001b[39;49m\u001b[43m(\u001b[49m\u001b[43m)\u001b[49m\u001b[38;5;241;43m.\u001b[39;49m\u001b[43mdrop\u001b[49m\u001b[43m(\u001b[49m\n\u001b[1;32m   5582\u001b[0m \u001b[43m        \u001b[49m\u001b[43mlabels\u001b[49m\u001b[38;5;241;43m=\u001b[39;49m\u001b[43mlabels\u001b[49m\u001b[43m,\u001b[49m\n\u001b[1;32m   5583\u001b[0m \u001b[43m        \u001b[49m\u001b[43maxis\u001b[49m\u001b[38;5;241;43m=\u001b[39;49m\u001b[43maxis\u001b[49m\u001b[43m,\u001b[49m\n\u001b[1;32m   5584\u001b[0m \u001b[43m        \u001b[49m\u001b[43mindex\u001b[49m\u001b[38;5;241;43m=\u001b[39;49m\u001b[43mindex\u001b[49m\u001b[43m,\u001b[49m\n\u001b[1;32m   5585\u001b[0m \u001b[43m        \u001b[49m\u001b[43mcolumns\u001b[49m\u001b[38;5;241;43m=\u001b[39;49m\u001b[43mcolumns\u001b[49m\u001b[43m,\u001b[49m\n\u001b[1;32m   5586\u001b[0m \u001b[43m        \u001b[49m\u001b[43mlevel\u001b[49m\u001b[38;5;241;43m=\u001b[39;49m\u001b[43mlevel\u001b[49m\u001b[43m,\u001b[49m\n\u001b[1;32m   5587\u001b[0m \u001b[43m        \u001b[49m\u001b[43minplace\u001b[49m\u001b[38;5;241;43m=\u001b[39;49m\u001b[43minplace\u001b[49m\u001b[43m,\u001b[49m\n\u001b[1;32m   5588\u001b[0m \u001b[43m        \u001b[49m\u001b[43merrors\u001b[49m\u001b[38;5;241;43m=\u001b[39;49m\u001b[43merrors\u001b[49m\u001b[43m,\u001b[49m\n\u001b[1;32m   5589\u001b[0m \u001b[43m    \u001b[49m\u001b[43m)\u001b[49m\n",
      "File \u001b[0;32m~/Library/Python/3.9/lib/python/site-packages/pandas/core/generic.py:4788\u001b[0m, in \u001b[0;36mNDFrame.drop\u001b[0;34m(self, labels, axis, index, columns, level, inplace, errors)\u001b[0m\n\u001b[1;32m   4786\u001b[0m \u001b[38;5;28;01mfor\u001b[39;00m axis, labels \u001b[38;5;129;01min\u001b[39;00m axes\u001b[38;5;241m.\u001b[39mitems():\n\u001b[1;32m   4787\u001b[0m     \u001b[38;5;28;01mif\u001b[39;00m labels \u001b[38;5;129;01mis\u001b[39;00m \u001b[38;5;129;01mnot\u001b[39;00m \u001b[38;5;28;01mNone\u001b[39;00m:\n\u001b[0;32m-> 4788\u001b[0m         obj \u001b[38;5;241m=\u001b[39m \u001b[43mobj\u001b[49m\u001b[38;5;241;43m.\u001b[39;49m\u001b[43m_drop_axis\u001b[49m\u001b[43m(\u001b[49m\u001b[43mlabels\u001b[49m\u001b[43m,\u001b[49m\u001b[43m \u001b[49m\u001b[43maxis\u001b[49m\u001b[43m,\u001b[49m\u001b[43m \u001b[49m\u001b[43mlevel\u001b[49m\u001b[38;5;241;43m=\u001b[39;49m\u001b[43mlevel\u001b[49m\u001b[43m,\u001b[49m\u001b[43m \u001b[49m\u001b[43merrors\u001b[49m\u001b[38;5;241;43m=\u001b[39;49m\u001b[43merrors\u001b[49m\u001b[43m)\u001b[49m\n\u001b[1;32m   4790\u001b[0m \u001b[38;5;28;01mif\u001b[39;00m inplace:\n\u001b[1;32m   4791\u001b[0m     \u001b[38;5;28mself\u001b[39m\u001b[38;5;241m.\u001b[39m_update_inplace(obj)\n",
      "File \u001b[0;32m~/Library/Python/3.9/lib/python/site-packages/pandas/core/generic.py:4830\u001b[0m, in \u001b[0;36mNDFrame._drop_axis\u001b[0;34m(self, labels, axis, level, errors, only_slice)\u001b[0m\n\u001b[1;32m   4828\u001b[0m         new_axis \u001b[38;5;241m=\u001b[39m axis\u001b[38;5;241m.\u001b[39mdrop(labels, level\u001b[38;5;241m=\u001b[39mlevel, errors\u001b[38;5;241m=\u001b[39merrors)\n\u001b[1;32m   4829\u001b[0m     \u001b[38;5;28;01melse\u001b[39;00m:\n\u001b[0;32m-> 4830\u001b[0m         new_axis \u001b[38;5;241m=\u001b[39m \u001b[43maxis\u001b[49m\u001b[38;5;241;43m.\u001b[39;49m\u001b[43mdrop\u001b[49m\u001b[43m(\u001b[49m\u001b[43mlabels\u001b[49m\u001b[43m,\u001b[49m\u001b[43m \u001b[49m\u001b[43merrors\u001b[49m\u001b[38;5;241;43m=\u001b[39;49m\u001b[43merrors\u001b[49m\u001b[43m)\u001b[49m\n\u001b[1;32m   4831\u001b[0m     indexer \u001b[38;5;241m=\u001b[39m axis\u001b[38;5;241m.\u001b[39mget_indexer(new_axis)\n\u001b[1;32m   4833\u001b[0m \u001b[38;5;66;03m# Case for non-unique axis\u001b[39;00m\n\u001b[1;32m   4834\u001b[0m \u001b[38;5;28;01melse\u001b[39;00m:\n",
      "File \u001b[0;32m~/Library/Python/3.9/lib/python/site-packages/pandas/core/indexes/base.py:7070\u001b[0m, in \u001b[0;36mIndex.drop\u001b[0;34m(self, labels, errors)\u001b[0m\n\u001b[1;32m   7068\u001b[0m \u001b[38;5;28;01mif\u001b[39;00m mask\u001b[38;5;241m.\u001b[39many():\n\u001b[1;32m   7069\u001b[0m     \u001b[38;5;28;01mif\u001b[39;00m errors \u001b[38;5;241m!=\u001b[39m \u001b[38;5;124m\"\u001b[39m\u001b[38;5;124mignore\u001b[39m\u001b[38;5;124m\"\u001b[39m:\n\u001b[0;32m-> 7070\u001b[0m         \u001b[38;5;28;01mraise\u001b[39;00m \u001b[38;5;167;01mKeyError\u001b[39;00m(\u001b[38;5;124mf\u001b[39m\u001b[38;5;124m\"\u001b[39m\u001b[38;5;132;01m{\u001b[39;00mlabels[mask]\u001b[38;5;241m.\u001b[39mtolist()\u001b[38;5;132;01m}\u001b[39;00m\u001b[38;5;124m not found in axis\u001b[39m\u001b[38;5;124m\"\u001b[39m)\n\u001b[1;32m   7071\u001b[0m     indexer \u001b[38;5;241m=\u001b[39m indexer[\u001b[38;5;241m~\u001b[39mmask]\n\u001b[1;32m   7072\u001b[0m \u001b[38;5;28;01mreturn\u001b[39;00m \u001b[38;5;28mself\u001b[39m\u001b[38;5;241m.\u001b[39mdelete(indexer)\n",
      "\u001b[0;31mKeyError\u001b[0m: \"['sign_class'] not found in axis\""
     ]
    }
   ],
   "source": [
    "# Drop the label column to get the features\n",
    "X = data.drop(columns=[label_column])\n",
    "\n",
    "# Encode the labels if they are not already numeric\n",
    "from sklearn.preprocessing import LabelEncoder\n",
    "\n",
    "label_encoder = LabelEncoder()\n",
    "y = label_encoder.fit_transform(data[label_column])\n",
    "\n",
    "# Ensure X is numeric\n",
    "X = X.astype(float)\n",
    "\n",
    "# Normalize the features\n",
    "X = X / X.max()\n",
    "\n",
    "print(X.head())\n",
    "print(y[:5])\n"
   ]
  },
  {
   "cell_type": "code",
   "execution_count": null,
   "metadata": {},
   "outputs": [],
   "source": []
  }
 ],
 "metadata": {
  "kernelspec": {
   "display_name": "Python 3",
   "language": "python",
   "name": "python3"
  },
  "language_info": {
   "codemirror_mode": {
    "name": "ipython",
    "version": 3
   },
   "file_extension": ".py",
   "mimetype": "text/x-python",
   "name": "python",
   "nbconvert_exporter": "python",
   "pygments_lexer": "ipython3",
   "version": "3.9.6"
  }
 },
 "nbformat": 4,
 "nbformat_minor": 2
}
